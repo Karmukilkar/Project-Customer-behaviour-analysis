{
 "cells": [
  {
   "cell_type": "code",
   "execution_count": 2,
   "metadata": {},
   "outputs": [
    {
     "name": "stdout",
     "output_type": "stream",
     "text": [
      "hello world\n"
     ]
    }
   ],
   "source": [
    "print(\"hello world\")"
   ]
  },
  {
   "cell_type": "markdown",
   "metadata": {},
   "source": [
    "**sql and python connection**"
   ]
  },
  {
   "cell_type": "code",
   "execution_count": null,
   "metadata": {},
   "outputs": [],
   "source": [
    "# installing the package for database connection\n",
    "#%pip install mysql-connector-python\n",
    "%pip install sqlalchemy pymysql\n"
   ]
  },
  {
   "cell_type": "code",
   "execution_count": null,
   "metadata": {},
   "outputs": [],
   "source": [
    "pip install --upgrade mysql-connector-python    # to upgrade the package"
   ]
  },
  {
   "cell_type": "code",
   "execution_count": 6,
   "metadata": {},
   "outputs": [],
   "source": [
    "import mysql.connector as db\n",
    "import pandas as pd\n",
    "\n",
    "\n",
    "# connecting to the database\n",
    "user  = 'demo'\n",
    "passcode = \"Kart123@\"\n",
    "host = 'localhost'\n",
    "db_name = \"shop_easy\"\n",
    "\n",
    "db_connextion = db.connect(\n",
    "\n",
    "                host  = host,\n",
    "                user = user,\n",
    "                password = passcode,\n",
    "                database = db_name\n",
    ")"
   ]
  },
  {
   "cell_type": "code",
   "execution_count": 7,
   "metadata": {},
   "outputs": [
    {
     "data": {
      "text/plain": [
       "<mysql.connector.connection_cext.CMySQLConnection at 0x2182f93ead0>"
      ]
     },
     "execution_count": 7,
     "metadata": {},
     "output_type": "execute_result"
    }
   ],
   "source": [
    "# to check the connection and connection is successful with the database\n",
    "db_connextion"
   ]
  },
  {
   "cell_type": "code",
   "execution_count": 8,
   "metadata": {},
   "outputs": [],
   "source": [
    "curr = db_connextion.cursor() # creating a cursor object    "
   ]
  },
  {
   "cell_type": "code",
   "execution_count": 4,
   "metadata": {},
   "outputs": [],
   "source": [
    "path='products.csv'\n",
    "prod= pd.read_csv(path)"
   ]
  },
  {
   "cell_type": "code",
   "execution_count": null,
   "metadata": {},
   "outputs": [],
   "source": [
    "quer='''CREATE TABLE products (\n",
    "      productID INT AUTO_INCREMENT PRIMARY KEY,\n",
    "      productName VARCHAR(255),\n",
    "      Category VARCHAR(255),\n",
    "      Price FLOAT\n",
    "      )''';\n",
    "curr.execute(quer)"
   ]
  },
  {
   "cell_type": "code",
   "execution_count": null,
   "metadata": {},
   "outputs": [],
   "source": [
    "for i, row in prod.iterrows():\n",
    "    curr.execute(\n",
    "        \"INSERT INTO products (ProductID,ProductName,Category,Price) VALUES (%s, %s, %s,%s)\",\n",
    "        (row['ProductID'], row['ProductName'], row['Category'], row['Price'])\n",
    "    )\n",
    "    db_connextion.commit()\n",
    "    print(\"Record inserted successfully\")\n"
   ]
  },
  {
   "cell_type": "code",
   "execution_count": null,
   "metadata": {},
   "outputs": [],
   "source": [
    "path1='geography.csv' \n",
    "geo= pd.read_csv(path1)\n",
    "\n",
    "\n",
    "querr='''CREATE TABLE geography(\n",
    "      GeographyID INT AUTO_INCREMENT PRIMARY KEY,\n",
    "      Country VARCHAR(255),\n",
    "      City VARCHAR(255))''';\n",
    "curr.execute(querr)"
   ]
  },
  {
   "cell_type": "code",
   "execution_count": null,
   "metadata": {},
   "outputs": [],
   "source": [
    "for i, row in geo.iterrows():\n",
    "    curr.execute(\n",
    "        \"INSERT INTO geography(GeographyID,Country,City) VALUES (%s, %s, %s)\",\n",
    "        (row['GeographyID'], row['Country'], row['City'])\n",
    "    )\n",
    "    db_connextion.commit()\n",
    "    print(\"Record inserted successfully\")"
   ]
  },
  {
   "cell_type": "code",
   "execution_count": 25,
   "metadata": {},
   "outputs": [],
   "source": [
    "import pandas as pd\n",
    "path='engagement_data.csv'\n",
    "eng= pd.read_csv(path) \n",
    "querry='''CREATE TABLE customer_enage( \n",
    "      EngagementID INT AUTO_INCREMENT PRIMARY KEY,\n",
    "      `ContentID` INT,\n",
    "      ContentType varchar(255),\n",
    "      Likes INT,\n",
    "      EngagementDate DATE,\n",
    "      CampaignID INT,\n",
    "      ProductID INT ,\n",
    "      ViewsClicksCombined varchar(255),\n",
    "     foreign key (ProductID) references products(ProductID))''';\n",
    "\n",
    "curr.execute(querry)"
   ]
  },
  {
   "cell_type": "code",
   "execution_count": 22,
   "metadata": {},
   "outputs": [],
   "source": [
    "q='''drop table customers_Journey'''\n",
    "curr.execute(q)"
   ]
  },
  {
   "cell_type": "code",
   "execution_count": null,
   "metadata": {},
   "outputs": [],
   "source": [
    "for i, row in eng.iterrows():\n",
    "    curr.execute(\n",
    "        \"INSERT INTO customer_enage(EngagementID,ContentID,ContentType,Likes,EngagementDate,CampaignID,ProductID,ViewsClicksCombined) VALUES (%s, %s, %s,%s,%s,%s,%s,%s)\",\n",
    "        (row['EngagementID'], row['ContentID'], row['ContentType'],row['Likes'],row['EngagementDate'],row['CampaignID'],row['ProductID'],row['ViewsClicksCombined'])\n",
    "    )\n",
    "    db_connextion.commit()\n",
    "    print(\"Record inserted successfully\")"
   ]
  },
  {
   "cell_type": "code",
   "execution_count": 21,
   "metadata": {},
   "outputs": [],
   "source": [
    "import pandas as pd\n",
    "path='customers.csv'\n",
    "enge= pd.read_csv(path) \n",
    "querry='''CREATE TABLE customers( \n",
    "        CustomerID INT AUTO_INCREMENT PRIMARY KEY,\n",
    "        CustomerName varchar(255),\n",
    "        Email varchar(255) UNIQUE,\n",
    "        Gender VARCHAR(255),\n",
    "        Age INT,\n",
    "        `GeographyID` INT,\n",
    "        foreign key (GeographyID) references geography(GeographyID)\n",
    "      )''';\n",
    "\n",
    "curr.execute(querry)"
   ]
  },
  {
   "cell_type": "code",
   "execution_count": null,
   "metadata": {},
   "outputs": [],
   "source": [
    "for i, row in enge.iterrows():\n",
    "    curr.execute(\n",
    "        \"INSERT INTO customers(CustomerID,CustomerName,Email,Gender,AGE,GeographyID) VALUES (%s, %s, %s,%s,%s,%s)\",\n",
    "        (row[\"CustomerID\"], row[\"CustomerName\"],row[\"Email\"],row[\"Gender\"],row[\"Age\"],row[\"GeographyID\"])\n",
    "    )\n",
    "    db_connextion.commit()\n",
    "    print(\"Record inserted successfully\")"
   ]
  },
  {
   "cell_type": "code",
   "execution_count": null,
   "metadata": {},
   "outputs": [],
   "source": [
    "pat='customer_reviews.csv'\n",
    "eng= pd.read_csv(pat)\n",
    "querry='''CREATE TABLE customer_reviews( \n",
    "        ReviewID INT AUTO_INCREMENT PRIMARY KEY,\n",
    "        `CustomerID` INT,\n",
    "        `ProductID` INT,\n",
    "        ReviewDate DATE,\n",
    "        Rating INT,\n",
    "        ReviewText TEXT,\n",
    "        foreign key (CustomerID) references customers(CustomerID),\n",
    "        foreign key (ProductID) references products(ProductID)\n",
    "      )''';\n",
    "curr.execute(querry)\n",
    "print(\"Table created successfully\")"
   ]
  },
  {
   "cell_type": "code",
   "execution_count": null,
   "metadata": {},
   "outputs": [],
   "source": [
    "for i, row in eng.iterrows():\n",
    "    curr.execute(\n",
    "        \"INSERT INTO customer_reviews(ReviewID,CustomerID,ProductID,ReviewDate,Rating,ReviewText) VALUES (%s, %s, %s,%s,%s,%s)\",\n",
    "        (row[\"ReviewID\"], row[\"CustomerID\"],row[\"ProductID\"],row[\"ReviewDate\"],row[\"Rating\"],row[\"ReviewText\"])\n",
    "    )\n",
    "    db_connextion.commit()\n",
    "    print(\"Record inserted successfully\")"
   ]
  },
  {
   "cell_type": "code",
   "execution_count": 14,
   "metadata": {},
   "outputs": [
    {
     "name": "stdout",
     "output_type": "stream",
     "text": [
      "Table created successfully\n"
     ]
    }
   ],
   "source": [
    "pat='customers_journey.csv'\n",
    "eng= pd.read_csv(pat)\n",
    "querry='''CREATE TABLE customers_journey( \n",
    "        JourneyID INT AUTO_INCREMENT PRIMARY KEY,\n",
    "        `CustomerID` INT ,\n",
    "        `ProductID` INT ,\n",
    "        VisitDate DATE,\n",
    "        Stage   VARCHAR(255),\n",
    "        Action  VARCHAR(255),\n",
    "        Duration float,\n",
    "        foreign key (CustomerID) references customers(CustomerID),\n",
    "        foreign key (ProductID) references products(ProductID)\n",
    "      )''';\n",
    "curr.execute(querry)\n",
    "print(\"Table created successfully\")"
   ]
  },
  {
   "cell_type": "code",
   "execution_count": 15,
   "metadata": {},
   "outputs": [
    {
     "name": "stdout",
     "output_type": "stream",
     "text": [
      "Record inserted successfully\n"
     ]
    }
   ],
   "source": [
    "for i, row in eng.iterrows():\n",
    "    curr.execute(\"INSERT INTO customers_journey(JourneyID,CustomerID,ProductID,VisitDate,Stage,Action,Duration) VALUES (%s, %s, %s,%s,%s,%s,%s)\",\n",
    "        (row[\"JourneyID\"], row[\"CustomerID\"],row[\"ProductID\"],row[\"VisitDate\"],row[\"Stage\"],row[\"Action\"],row[\"Duration\"])\n",
    "    );\n",
    "    db_connextion.commit()\n",
    "print(\"Record inserted successfully\")"
   ]
  },
  {
   "cell_type": "markdown",
   "metadata": {},
   "source": [
    "ALL THE CSV DATA HAVE BEEN INSERTED INTO THE SQL TABLE."
   ]
  },
  {
   "cell_type": "code",
   "execution_count": 13,
   "metadata": {},
   "outputs": [],
   "source": [
    "quer='''drop table customers_journey'''\n",
    "curr.execute(quer)"
   ]
  },
  {
   "cell_type": "code",
   "execution_count": 9,
   "metadata": {},
   "outputs": [
    {
     "data": {
      "text/plain": [
       "True"
      ]
     },
     "execution_count": 9,
     "metadata": {},
     "output_type": "execute_result"
    }
   ],
   "source": [
    "db_connextion.close() # closing the connection\n",
    "curr.close() # closing the cursor"
   ]
  }
 ],
 "metadata": {
  "kernelspec": {
   "display_name": "Python 3",
   "language": "python",
   "name": "python3"
  },
  "language_info": {
   "codemirror_mode": {
    "name": "ipython",
    "version": 3
   },
   "file_extension": ".py",
   "mimetype": "text/x-python",
   "name": "python",
   "nbconvert_exporter": "python",
   "pygments_lexer": "ipython3",
   "version": "3.13.0"
  }
 },
 "nbformat": 4,
 "nbformat_minor": 2
}
