{
 "cells": [
  {
   "cell_type": "code",
   "execution_count": 43,
   "metadata": {},
   "outputs": [],
   "source": [
    "import pandas as pd"
   ]
  },
  {
   "cell_type": "code",
   "execution_count": 44,
   "metadata": {},
   "outputs": [
    {
     "data": {
      "text/html": [
       "<div>\n",
       "<style scoped>\n",
       "    .dataframe tbody tr th:only-of-type {\n",
       "        vertical-align: middle;\n",
       "    }\n",
       "\n",
       "    .dataframe tbody tr th {\n",
       "        vertical-align: top;\n",
       "    }\n",
       "\n",
       "    .dataframe thead th {\n",
       "        text-align: right;\n",
       "    }\n",
       "</style>\n",
       "<table border=\"1\" class=\"dataframe\">\n",
       "  <thead>\n",
       "    <tr style=\"text-align: right;\">\n",
       "      <th></th>\n",
       "      <th>ReviewID</th>\n",
       "      <th>CustomerID</th>\n",
       "      <th>ProductID</th>\n",
       "      <th>ReviewDate</th>\n",
       "      <th>Rating</th>\n",
       "      <th>ReviewText</th>\n",
       "    </tr>\n",
       "  </thead>\n",
       "  <tbody>\n",
       "    <tr>\n",
       "      <th>0</th>\n",
       "      <td>1</td>\n",
       "      <td>77</td>\n",
       "      <td>18</td>\n",
       "      <td>2023-12-23</td>\n",
       "      <td>3</td>\n",
       "      <td>Average  experience,  nothing  special.</td>\n",
       "    </tr>\n",
       "    <tr>\n",
       "      <th>1</th>\n",
       "      <td>2</td>\n",
       "      <td>80</td>\n",
       "      <td>19</td>\n",
       "      <td>2024-12-25</td>\n",
       "      <td>5</td>\n",
       "      <td>The  quality  is    top-notch.</td>\n",
       "    </tr>\n",
       "    <tr>\n",
       "      <th>2</th>\n",
       "      <td>3</td>\n",
       "      <td>50</td>\n",
       "      <td>13</td>\n",
       "      <td>2025-01-26</td>\n",
       "      <td>4</td>\n",
       "      <td>Five  stars  for  the  quick  delivery.</td>\n",
       "    </tr>\n",
       "    <tr>\n",
       "      <th>3</th>\n",
       "      <td>4</td>\n",
       "      <td>78</td>\n",
       "      <td>15</td>\n",
       "      <td>2025-04-21</td>\n",
       "      <td>3</td>\n",
       "      <td>Good  quality,  but  could  be  cheaper.</td>\n",
       "    </tr>\n",
       "    <tr>\n",
       "      <th>4</th>\n",
       "      <td>5</td>\n",
       "      <td>64</td>\n",
       "      <td>2</td>\n",
       "      <td>2023-07-16</td>\n",
       "      <td>3</td>\n",
       "      <td>Average  experience,  nothing  special.</td>\n",
       "    </tr>\n",
       "  </tbody>\n",
       "</table>\n",
       "</div>"
      ],
      "text/plain": [
       "   ReviewID  CustomerID  ProductID  ReviewDate  Rating  \\\n",
       "0         1          77         18  2023-12-23       3   \n",
       "1         2          80         19  2024-12-25       5   \n",
       "2         3          50         13  2025-01-26       4   \n",
       "3         4          78         15  2025-04-21       3   \n",
       "4         5          64          2  2023-07-16       3   \n",
       "\n",
       "                                 ReviewText  \n",
       "0   Average  experience,  nothing  special.  \n",
       "1            The  quality  is    top-notch.  \n",
       "2   Five  stars  for  the  quick  delivery.  \n",
       "3  Good  quality,  but  could  be  cheaper.  \n",
       "4   Average  experience,  nothing  special.  "
      ]
     },
     "execution_count": 44,
     "metadata": {},
     "output_type": "execute_result"
    }
   ],
   "source": [
    "data=pd.read_csv('customer_reviews.csv')\n",
    "data.head()"
   ]
  },
  {
   "cell_type": "code",
   "execution_count": 38,
   "metadata": {},
   "outputs": [
    {
     "data": {
      "text/plain": [
       "<mysql.connector.connection_cext.CMySQLConnection at 0x24b3ed2b390>"
      ]
     },
     "execution_count": 38,
     "metadata": {},
     "output_type": "execute_result"
    }
   ],
   "source": [
    "import mysql.connector as db\n",
    "import pandas as pd\n",
    "\n",
    "\n",
    "# connecting to the database\n",
    "user  = 'demo'\n",
    "passcode = \"Kart123@\"\n",
    "host = 'localhost'\n",
    "db_name = \"shop_easy\"\n",
    "\n",
    "db_connextion = db.connect(\n",
    "\n",
    "                host  = host,\n",
    "                user = user,\n",
    "                password = passcode,\n",
    "                database = db_name\n",
    ")\n",
    "db_connextion"
   ]
  },
  {
   "cell_type": "code",
   "execution_count": 19,
   "metadata": {},
   "outputs": [],
   "source": [
    "currsor=db_connextion.cursor()"
   ]
  },
  {
   "cell_type": "code",
   "execution_count": 8,
   "metadata": {},
   "outputs": [
    {
     "name": "stdout",
     "output_type": "stream",
     "text": [
      "('Socialmedia', 10)\n",
      "('Blog', 8)\n",
      "('video', 8)\n",
      "('newsletter', 4)\n"
     ]
    }
   ],
   "source": [
    "# executing the query\n",
    "query = '''select ContentType,count(ContentType) as count\n",
    " from customer_enage\n",
    "where likes>104\n",
    "group by ContentType\n",
    "order by count desc;'''\n",
    "currsor.execute(query)\n",
    "result = currsor.fetchall()\n",
    "for i in result:\n",
    "    print(i)\n",
    "\n"
   ]
  },
  {
   "cell_type": "code",
   "execution_count": 20,
   "metadata": {},
   "outputs": [
    {
     "name": "stdout",
     "output_type": "stream",
     "text": [
      "(1, 64, 18, datetime.date(2024, 6, 10), 'Checkout', 'Drop-off', 182.0)\n",
      "(2, 94, 11, datetime.date(2025, 7, 9), 'Checkout', 'Drop-off', 182.0)\n",
      "(4, 33, 18, datetime.date(2025, 5, 28), 'Checkout', 'Drop-off', 182.0)\n",
      "(11, 23, 12, datetime.date(2023, 8, 22), 'Checkout', 'Drop-off', 182.0)\n",
      "(21, 58, 20, datetime.date(2024, 3, 7), 'Checkout', 'Drop-off', 182.0)\n",
      "(24, 77, 6, datetime.date(2025, 6, 25), 'Checkout', 'Drop-off', 182.0)\n",
      "(32, 67, 11, datetime.date(2023, 9, 4), 'Checkout', 'Drop-off', 182.0)\n",
      "(37, 38, 17, datetime.date(2024, 6, 18), 'Checkout', 'Drop-off', 182.0)\n",
      "(47, 30, 20, datetime.date(2024, 2, 18), 'checkout', 'Drop-off', 182.0)\n",
      "(52, 15, 9, datetime.date(2025, 8, 7), 'Checkout', 'Drop-off', 182.0)\n",
      "(54, 9, 11, datetime.date(2024, 11, 19), 'checkout', 'Drop-off', 182.0)\n",
      "(55, 1, 7, datetime.date(2024, 3, 17), 'Checkout', 'Drop-off', 182.0)\n",
      "(71, 40, 20, datetime.date(2023, 7, 13), 'Checkout', 'Drop-off', 182.0)\n",
      "(93, 43, 8, datetime.date(2023, 8, 22), 'Checkout', 'Drop-off', 182.0)\n"
     ]
    }
   ],
   "source": [
    "query='''select *\n",
    "from customers_journey\n",
    "where action='Drop-off';'''\n",
    "currsor.execute(query)\n",
    "re=currsor.fetchall()\n",
    "for i in re:\n",
    "    print(i)"
   ]
  },
  {
   "cell_type": "code",
   "execution_count": 21,
   "metadata": {},
   "outputs": [
    {
     "name": "stdout",
     "output_type": "stream",
     "text": [
      "('Swim Goggles', 6)\n",
      "('Surfboard', 6)\n",
      "('Hockey Stick', 5)\n",
      "('Tennis Racket', 5)\n",
      "('Ski Boots', 5)\n",
      "('Kayak', 5)\n",
      "('Fitness Tracker', 4)\n",
      "('Climbing Rope', 4)\n",
      "('Yoga Mat', 4)\n",
      "('Running Shoes', 3)\n",
      "('Football Helmet', 3)\n",
      "('Soccer Ball', 3)\n",
      "('Baseball Glove', 2)\n",
      "('Volleyball', 2)\n",
      "('Boxing Gloves', 2)\n",
      "('Golf Clubs', 2)\n",
      "('Dumbbells', 1)\n"
     ]
    }
   ],
   "source": [
    "que='''select products.productName,count(*) as good_products\n",
    "from products inner join customer_reviews\n",
    "on products.productID=customer_reviews.ProductID\n",
    "where customer_reviews.Rating>=4\n",
    "group by products.productID\n",
    "order by good_products desc;'''\n",
    "currsor.execute(que)\n",
    "r=currsor.fetchall()\n",
    "for i in r:\n",
    "    print(i)\n"
   ]
  },
  {
   "cell_type": "code",
   "execution_count": 22,
   "metadata": {},
   "outputs": [
    {
     "name": "stdout",
     "output_type": "stream",
     "text": [
      "(Decimal('29'),)\n"
     ]
    }
   ],
   "source": [
    "query='''select sum(number_of_young_customers) as total_young_customers from (select rating, age, count(*) as number_of_young_customers\n",
    "from customers as c\n",
    "inner join customer_reviews as cr\n",
    "on c.CustomerID=cr.CustomerID\n",
    "where age<=30\n",
    "group by age,rating\n",
    "order by age desc)as subquery;\n",
    "-- male customers=43 and female=57\n",
    "'''\n",
    "currsor.execute(query)\n",
    "result = currsor.fetchall()\n",
    "for i in result:\n",
    "    print(i)"
   ]
  },
  {
   "cell_type": "code",
   "execution_count": 25,
   "metadata": {},
   "outputs": [
    {
     "data": {
      "text/plain": [
       "True"
      ]
     },
     "execution_count": 25,
     "metadata": {},
     "output_type": "execute_result"
    }
   ],
   "source": [
    "currsor.close()"
   ]
  },
  {
   "cell_type": "code",
   "execution_count": 28,
   "metadata": {},
   "outputs": [],
   "source": [
    "currsor=db_connextion.cursor()"
   ]
  },
  {
   "cell_type": "code",
   "execution_count": null,
   "metadata": {},
   "outputs": [],
   "source": [
    "quy='''select sum(number_of_young_customers) as total_young_customers from (select rating, age, count(*) as number_of_young_customers\n",
    "from customers as c\n",
    "inner join customer_reviews as cr\n",
    "on c.CustomerID=cr.CustomerID\n",
    "where age>=30\n",
    "group by age,rating\n",
    "order by age desc)as subquery;\n",
    "-- male customers=43 and female=57\n",
    "'''\n",
    "currsor.execute(quy)\n",
    "re = currsor.fetchall()\n",
    "for i in re:\n",
    "    print(i)"
   ]
  },
  {
   "cell_type": "code",
   "execution_count": 32,
   "metadata": {},
   "outputs": [
    {
     "data": {
      "text/plain": [
       "True"
      ]
     },
     "execution_count": 32,
     "metadata": {},
     "output_type": "execute_result"
    }
   ],
   "source": [
    "currsor.close()"
   ]
  },
  {
   "cell_type": "code",
   "execution_count": 34,
   "metadata": {},
   "outputs": [],
   "source": [
    "currsor=db_connextion.cursor()"
   ]
  },
  {
   "cell_type": "code",
   "execution_count": null,
   "metadata": {},
   "outputs": [],
   "source": [
    "q='''Select geography.Country, count(*) as customercount \n",
    "from customers \n",
    "inner join geography\n",
    "on customers.GeographyID=geography.GeographyID\n",
    "group by geography.Country\n",
    "order by customercount desc;\n",
    "-- best performing counteries are spain,italy,germany,france'''\n",
    "currsor.execute(q)\n",
    "re= currsor.fetchall()\n",
    "for i in re:\n",
    "    print(i)"
   ]
  },
  {
   "cell_type": "code",
   "execution_count": 36,
   "metadata": {},
   "outputs": [
    {
     "data": {
      "text/plain": [
       "True"
      ]
     },
     "execution_count": 36,
     "metadata": {},
     "output_type": "execute_result"
    }
   ],
   "source": [
    "currsor.close()"
   ]
  },
  {
   "cell_type": "code",
   "execution_count": null,
   "metadata": {},
   "outputs": [],
   "source": [
    "currsor=db_connextion.cursor()"
   ]
  },
  {
   "cell_type": "code",
   "execution_count": 40,
   "metadata": {},
   "outputs": [
    {
     "name": "stdout",
     "output_type": "stream",
     "text": [
      "(18, 'Average  experience,  nothing  special.', 3, 4)\n",
      "(15, 'Good  quality,  but  could  be  cheaper.', 3, 7)\n",
      "(2, 'Average  experience,  nothing  special.', 3, 6)\n",
      "(1, 'Average  experience,  nothing  special.', 3, 5)\n",
      "(2, 'Product  did    not  meet  my  expectations.', 2, 6)\n",
      "(4, 'Not  worth  the  money.', 3, 4)\n",
      "(6, 'I  had  a  bad  experience  with  this  product.', 1, 5)\n",
      "(4, 'I  love  this    product,  will  buy  again!', 3, 4)\n",
      "(4, 'Good  quality,  but  could  be    cheaper.', 3, 4)\n",
      "(12, 'Average  experience,  nothing  special.', 3, 5)\n",
      "(9, 'Good  quality,  but  could  be  cheaper.', 3, 4)\n",
      "(3, 'Average  experience,  nothing    special.', 3, 4)\n",
      "(17, 'Average  experience,  nothing  special.', 3, 5)\n",
      "(16, 'Not  worth  the  money.', 3, 24)\n",
      "(7, 'Good  quality,  but  could    be  cheaper.', 3, 8)\n",
      "(4, 'The  product  stopped  working  after  a  month.', 1, 4)\n",
      "(9, 'Customer  support  was    very  helpful.', 3, 4)\n",
      "(10, 'Shipping  was  fast  and  the  item  was  well-packaged.', 3, 4)\n",
      "(10, 'Disappointed  with  the  performance.', 2, 4)\n",
      "(7, 'The  product    is  okay,  but  the  instructions  were  unclear.', 2, 8)\n",
      "(17, 'Average  experience,  nothing  special.', 2, 5)\n",
      "(3, 'Not  worth  the  money.', 1, 4)\n",
      "(13, 'Average  experience,  nothing  special.', 3, 4)\n",
      "(7, 'The  product  is  okay,  but  the  instructions  were  unclear.', 3, 8)\n",
      "(12, 'Five  stars  for  the  quick  delivery.', 3, 5)\n",
      "(11, 'Good  quality,  but  could  be  cheaper.', 3, 2)\n",
      "(9, 'The  product  is  okay,  but  the  instructions  were  unclear.', 3, 4)\n",
      "(15, 'The  product  arrived    late.', 2, 7)\n",
      "(17, 'Not    worth  the  money.', 3, 5)\n",
      "(3, 'The  quality  is  top-notch.', 3, 4)\n",
      "(16, 'Great  purchase,  very  satisfied.', 3, 8)\n",
      "(13, 'Not  worth  the  money.', 3, 4)\n",
      "(13, 'Good  quality,  but  could  be  cheaper.', 3, 4)\n",
      "(6, 'The  product  is  okay,  but  the  instructions  were  unclear.', 3, 5)\n",
      "(16, 'Average  experience,  nothing  special.', 2, 8)\n",
      "(2, 'Not  worth  the  money.', 3, 6)\n"
     ]
    }
   ],
   "source": [
    "query='''select customer_enage.ProductID,ReviewText,rating,count(*) as new_rating\n",
    "from customer_reviews inner join customer_enage\n",
    "on  customer_reviews.productID=customer_enage.productID\n",
    "where Rating<=3\n",
    "group by ReviewText,rating,customer_enage.ProductID ;'''\n",
    "currsor.execute(query)\n",
    "result = currsor.fetchall()\n",
    "for i in result:\n",
    "    print(i)"
   ]
  },
  {
   "cell_type": "code",
   "execution_count": 41,
   "metadata": {},
   "outputs": [],
   "source": [
    "currsor.close()\n",
    "db_connextion.close()"
   ]
  }
 ],
 "metadata": {
  "kernelspec": {
   "display_name": "Python 3",
   "language": "python",
   "name": "python3"
  },
  "language_info": {
   "codemirror_mode": {
    "name": "ipython",
    "version": 3
   },
   "file_extension": ".py",
   "mimetype": "text/x-python",
   "name": "python",
   "nbconvert_exporter": "python",
   "pygments_lexer": "ipython3",
   "version": "3.13.0"
  }
 },
 "nbformat": 4,
 "nbformat_minor": 2
}
